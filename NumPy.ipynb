{
 "cells": [
  {
   "cell_type": "markdown",
   "metadata": {},
   "source": [
    "NumPy\n",
    "It stands for \"Numerical Python\". NumPy is a Python module that provides fast and efficient array operations of homogeneous data. It is the core library for scientific computing in Python providing a high-performance multidimensional array object, and tools for working with arrays."
   ]
  },
  {
   "cell_type": "code",
   "execution_count": 1,
   "metadata": {},
   "outputs": [],
   "source": [
    "#importing a numpy \n",
    "import numpy as np"
   ]
  },
  {
   "cell_type": "code",
   "execution_count": 2,
   "metadata": {},
   "outputs": [
    {
     "name": "stdout",
     "output_type": "stream",
     "text": [
      "[[2 3 5]\n",
      " [7 8 9]]\n"
     ]
    },
    {
     "data": {
      "text/plain": [
       "array([1, 2, 3])"
      ]
     },
     "execution_count": 2,
     "metadata": {},
     "output_type": "execute_result"
    }
   ],
   "source": [
    "#creating a numpy array\n",
    "a = np.array([1,2,3])  #1-D array\n",
    "b = np.array([[2,3,5], [7,8,9]]) #2-D array\n",
    "print(b)\n",
    "a"
   ]
  },
  {
   "cell_type": "markdown",
   "metadata": {},
   "source": [
    "Attributes of numpy array\n",
    ".shape\n",
    ".size\n",
    ".ndim\n",
    ".itemsize\n",
    ".dtype"
   ]
  },
  {
   "cell_type": "code",
   "execution_count": 3,
   "metadata": {},
   "outputs": [
    {
     "data": {
      "text/plain": [
       "array([ 1,  2,  3,  4,  5,  6,  7,  8,  9, 10])"
      ]
     },
     "execution_count": 3,
     "metadata": {},
     "output_type": "execute_result"
    }
   ],
   "source": [
    "array = np.arange(1,11)\n",
    "array"
   ]
  },
  {
   "cell_type": "code",
   "execution_count": 4,
   "metadata": {},
   "outputs": [
    {
     "data": {
      "text/plain": [
       "1"
      ]
     },
     "execution_count": 4,
     "metadata": {},
     "output_type": "execute_result"
    }
   ],
   "source": [
    "dim =array.ndim\n",
    "dim"
   ]
  },
  {
   "cell_type": "code",
   "execution_count": 5,
   "metadata": {},
   "outputs": [
    {
     "name": "stdout",
     "output_type": "stream",
     "text": [
      "1\n",
      "2\n"
     ]
    }
   ],
   "source": [
    "reshaped = array.reshape(5,2)\n",
    "new_dim = reshaped.ndim\n",
    "print(dim)\n",
    "print(new_dim)\n"
   ]
  },
  {
   "cell_type": "markdown",
   "metadata": {},
   "source": [
    "Creating new numpy array"
   ]
  },
  {
   "cell_type": "code",
   "execution_count": 6,
   "metadata": {},
   "outputs": [
    {
     "data": {
      "text/plain": [
       "array([[0, 0, 0],\n",
       "       [0, 0, 0]])"
      ]
     },
     "execution_count": 6,
     "metadata": {},
     "output_type": "execute_result"
    }
   ],
   "source": [
    "#empty\n",
    "np.empty((2,3), dtype = 'int')"
   ]
  },
  {
   "cell_type": "code",
   "execution_count": 7,
   "metadata": {},
   "outputs": [
    {
     "data": {
      "text/plain": [
       "array([0., 0.])"
      ]
     },
     "execution_count": 7,
     "metadata": {},
     "output_type": "execute_result"
    }
   ],
   "source": [
    "#zero\n",
    "np.zeros((2,), dtype = \"float\")"
   ]
  },
  {
   "cell_type": "code",
   "execution_count": 8,
   "metadata": {},
   "outputs": [],
   "source": [
    "array = np.array([[1, 2, 3], [5,6,7], [8,9,10]])"
   ]
  },
  {
   "cell_type": "code",
   "execution_count": 9,
   "metadata": {},
   "outputs": [
    {
     "data": {
      "text/plain": [
       "array([[ 1,  2,  3],\n",
       "       [ 5,  6,  7],\n",
       "       [ 8,  9, 10]])"
      ]
     },
     "execution_count": 9,
     "metadata": {},
     "output_type": "execute_result"
    }
   ],
   "source": [
    "array"
   ]
  },
  {
   "cell_type": "code",
   "execution_count": 10,
   "metadata": {},
   "outputs": [],
   "source": [
    "#indexing"
   ]
  },
  {
   "cell_type": "code",
   "execution_count": 11,
   "metadata": {},
   "outputs": [
    {
     "data": {
      "text/plain": [
       "array([[ 6,  7],\n",
       "       [ 9, 10]])"
      ]
     },
     "execution_count": 11,
     "metadata": {},
     "output_type": "execute_result"
    }
   ],
   "source": [
    "array[1:,1:]"
   ]
  },
  {
   "cell_type": "code",
   "execution_count": 12,
   "metadata": {},
   "outputs": [
    {
     "data": {
      "text/plain": [
       "array([[1., 0., 0., 0., 0., 0., 0., 0.],\n",
       "       [0., 1., 0., 0., 0., 0., 0., 0.],\n",
       "       [0., 0., 1., 0., 0., 0., 0., 0.],\n",
       "       [0., 0., 0., 1., 0., 0., 0., 0.],\n",
       "       [0., 0., 0., 0., 1., 0., 0., 0.],\n",
       "       [0., 0., 0., 0., 0., 1., 0., 0.],\n",
       "       [0., 0., 0., 0., 0., 0., 1., 0.],\n",
       "       [0., 0., 0., 0., 0., 0., 0., 1.]])"
      ]
     },
     "execution_count": 12,
     "metadata": {},
     "output_type": "execute_result"
    }
   ],
   "source": [
    "#eye\n",
    "np.eye(8)"
   ]
  },
  {
   "cell_type": "code",
   "execution_count": 13,
   "metadata": {},
   "outputs": [
    {
     "data": {
      "text/plain": [
       "array([[1, 1, 1],\n",
       "       [1, 1, 1]])"
      ]
     },
     "execution_count": 13,
     "metadata": {},
     "output_type": "execute_result"
    }
   ],
   "source": [
    "#one\n",
    "np.ones((2,3), dtype='int')"
   ]
  },
  {
   "cell_type": "code",
   "execution_count": 14,
   "metadata": {},
   "outputs": [
    {
     "data": {
      "text/plain": [
       "array([[8, 8],\n",
       "       [8, 8]])"
      ]
     },
     "execution_count": 14,
     "metadata": {},
     "output_type": "execute_result"
    }
   ],
   "source": [
    "#full\n",
    "np.full((2, 2), 8)"
   ]
  },
  {
   "cell_type": "code",
   "execution_count": 15,
   "metadata": {},
   "outputs": [
    {
     "data": {
      "text/plain": [
       "array([[1., 0., 0., 0.],\n",
       "       [0., 1., 0., 0.],\n",
       "       [0., 0., 1., 0.],\n",
       "       [0., 0., 0., 1.]], dtype=float32)"
      ]
     },
     "execution_count": 15,
     "metadata": {},
     "output_type": "execute_result"
    }
   ],
   "source": [
    "#Create an array out a 4x4 identity matrix with dtype float32 and save it in a variable named array\n",
    "array = np.identity(4, dtype = 'float32')\n",
    "array"
   ]
  },
  {
   "cell_type": "markdown",
   "metadata": {},
   "source": [
    "Creating with Existing Data\n",
    "New NumPy arrays can also be created from already existing ones.\n"
   ]
  },
  {
   "cell_type": "code",
   "execution_count": 16,
   "metadata": {},
   "outputs": [
    {
     "data": {
      "text/plain": [
       "array([1, 2, 3])"
      ]
     },
     "execution_count": 16,
     "metadata": {},
     "output_type": "execute_result"
    }
   ],
   "source": [
    "#asarray()\n",
    "a = [1,2,3]\n",
    "b = np.asarray(a)\n",
    "b"
   ]
  },
  {
   "cell_type": "code",
   "execution_count": 17,
   "metadata": {},
   "outputs": [
    {
     "name": "stdout",
     "output_type": "stream",
     "text": [
      "[[1 2]\n",
      " [3 4]]\n"
     ]
    }
   ],
   "source": [
    "#python tuples\n",
    "a=((1,2),(3,4))\n",
    "\n",
    "#convery to NumPy array\n",
    "b=np.asarray(a)\n",
    "print(b)"
   ]
  },
  {
   "cell_type": "markdown",
   "metadata": {},
   "source": [
    "np.fromiter( )\n",
    "This function creates a NumPy ndarray from an iterable"
   ]
  },
  {
   "cell_type": "code",
   "execution_count": 18,
   "metadata": {},
   "outputs": [
    {
     "name": "stdout",
     "output_type": "stream",
     "text": [
      "Array a is  [1 2 3 4]\n",
      "Array b is  [1 2 3 4]\n",
      "Array c is  [1 2 3 4]\n",
      "Array d is  [b's' b't' b'r' b'i' b'n' b'g']\n"
     ]
    }
   ],
   "source": [
    "a=np.fromiter([1,2,3,4],dtype='int8')\n",
    "b=np.fromiter((1,2,3,4),dtype='int8')\n",
    "c=np.fromiter(range(1,5),dtype='int8')\n",
    "d=np.fromiter('string',dtype='S50')\n",
    "\n",
    "print(\"Array a is \",a)\n",
    "print(\"Array b is \",b)\n",
    "print(\"Array c is \",c)\n",
    "print(\"Array d is \",d)"
   ]
  },
  {
   "cell_type": "code",
   "execution_count": 19,
   "metadata": {},
   "outputs": [
    {
     "data": {
      "text/plain": [
       "array([ 1,  2,  3,  4,  5,  6,  7,  8,  9, 10, 11, 12, 13, 14, 15, 16, 17,\n",
       "       18, 19, 20, 21, 22, 23, 24, 25, 26, 27, 28, 29, 30, 31, 32, 33, 34,\n",
       "       35, 36, 37, 38, 39, 40, 41, 42, 43, 44, 45, 46, 47, 48, 49])"
      ]
     },
     "execution_count": 19,
     "metadata": {},
     "output_type": "execute_result"
    }
   ],
   "source": [
    "#Creating new arrays with .arrange and .linspace .logspace\n",
    "a = np.arange(1,50)\n",
    "a"
   ]
  },
  {
   "cell_type": "code",
   "execution_count": 20,
   "metadata": {},
   "outputs": [
    {
     "data": {
      "text/plain": [
       "array([ 1.        ,  1.01803607,  1.03607214,  1.05410822,  1.07214429,\n",
       "        1.09018036,  1.10821643,  1.12625251,  1.14428858,  1.16232465,\n",
       "        1.18036072,  1.19839679,  1.21643287,  1.23446894,  1.25250501,\n",
       "        1.27054108,  1.28857715,  1.30661323,  1.3246493 ,  1.34268537,\n",
       "        1.36072144,  1.37875752,  1.39679359,  1.41482966,  1.43286573,\n",
       "        1.4509018 ,  1.46893788,  1.48697395,  1.50501002,  1.52304609,\n",
       "        1.54108216,  1.55911824,  1.57715431,  1.59519038,  1.61322645,\n",
       "        1.63126253,  1.6492986 ,  1.66733467,  1.68537074,  1.70340681,\n",
       "        1.72144289,  1.73947896,  1.75751503,  1.7755511 ,  1.79358717,\n",
       "        1.81162325,  1.82965932,  1.84769539,  1.86573146,  1.88376754,\n",
       "        1.90180361,  1.91983968,  1.93787575,  1.95591182,  1.9739479 ,\n",
       "        1.99198397,  2.01002004,  2.02805611,  2.04609218,  2.06412826,\n",
       "        2.08216433,  2.1002004 ,  2.11823647,  2.13627255,  2.15430862,\n",
       "        2.17234469,  2.19038076,  2.20841683,  2.22645291,  2.24448898,\n",
       "        2.26252505,  2.28056112,  2.29859719,  2.31663327,  2.33466934,\n",
       "        2.35270541,  2.37074148,  2.38877756,  2.40681363,  2.4248497 ,\n",
       "        2.44288577,  2.46092184,  2.47895792,  2.49699399,  2.51503006,\n",
       "        2.53306613,  2.5511022 ,  2.56913828,  2.58717435,  2.60521042,\n",
       "        2.62324649,  2.64128257,  2.65931864,  2.67735471,  2.69539078,\n",
       "        2.71342685,  2.73146293,  2.749499  ,  2.76753507,  2.78557114,\n",
       "        2.80360721,  2.82164329,  2.83967936,  2.85771543,  2.8757515 ,\n",
       "        2.89378758,  2.91182365,  2.92985972,  2.94789579,  2.96593186,\n",
       "        2.98396794,  3.00200401,  3.02004008,  3.03807615,  3.05611222,\n",
       "        3.0741483 ,  3.09218437,  3.11022044,  3.12825651,  3.14629259,\n",
       "        3.16432866,  3.18236473,  3.2004008 ,  3.21843687,  3.23647295,\n",
       "        3.25450902,  3.27254509,  3.29058116,  3.30861723,  3.32665331,\n",
       "        3.34468938,  3.36272545,  3.38076152,  3.3987976 ,  3.41683367,\n",
       "        3.43486974,  3.45290581,  3.47094188,  3.48897796,  3.50701403,\n",
       "        3.5250501 ,  3.54308617,  3.56112224,  3.57915832,  3.59719439,\n",
       "        3.61523046,  3.63326653,  3.65130261,  3.66933868,  3.68737475,\n",
       "        3.70541082,  3.72344689,  3.74148297,  3.75951904,  3.77755511,\n",
       "        3.79559118,  3.81362725,  3.83166333,  3.8496994 ,  3.86773547,\n",
       "        3.88577154,  3.90380762,  3.92184369,  3.93987976,  3.95791583,\n",
       "        3.9759519 ,  3.99398798,  4.01202405,  4.03006012,  4.04809619,\n",
       "        4.06613226,  4.08416834,  4.10220441,  4.12024048,  4.13827655,\n",
       "        4.15631263,  4.1743487 ,  4.19238477,  4.21042084,  4.22845691,\n",
       "        4.24649299,  4.26452906,  4.28256513,  4.3006012 ,  4.31863727,\n",
       "        4.33667335,  4.35470942,  4.37274549,  4.39078156,  4.40881764,\n",
       "        4.42685371,  4.44488978,  4.46292585,  4.48096192,  4.498998  ,\n",
       "        4.51703407,  4.53507014,  4.55310621,  4.57114228,  4.58917836,\n",
       "        4.60721443,  4.6252505 ,  4.64328657,  4.66132265,  4.67935872,\n",
       "        4.69739479,  4.71543086,  4.73346693,  4.75150301,  4.76953908,\n",
       "        4.78757515,  4.80561122,  4.82364729,  4.84168337,  4.85971944,\n",
       "        4.87775551,  4.89579158,  4.91382766,  4.93186373,  4.9498998 ,\n",
       "        4.96793587,  4.98597194,  5.00400802,  5.02204409,  5.04008016,\n",
       "        5.05811623,  5.0761523 ,  5.09418838,  5.11222445,  5.13026052,\n",
       "        5.14829659,  5.16633267,  5.18436874,  5.20240481,  5.22044088,\n",
       "        5.23847695,  5.25651303,  5.2745491 ,  5.29258517,  5.31062124,\n",
       "        5.32865731,  5.34669339,  5.36472946,  5.38276553,  5.4008016 ,\n",
       "        5.41883768,  5.43687375,  5.45490982,  5.47294589,  5.49098196,\n",
       "        5.50901804,  5.52705411,  5.54509018,  5.56312625,  5.58116232,\n",
       "        5.5991984 ,  5.61723447,  5.63527054,  5.65330661,  5.67134269,\n",
       "        5.68937876,  5.70741483,  5.7254509 ,  5.74348697,  5.76152305,\n",
       "        5.77955912,  5.79759519,  5.81563126,  5.83366733,  5.85170341,\n",
       "        5.86973948,  5.88777555,  5.90581162,  5.9238477 ,  5.94188377,\n",
       "        5.95991984,  5.97795591,  5.99599198,  6.01402806,  6.03206413,\n",
       "        6.0501002 ,  6.06813627,  6.08617234,  6.10420842,  6.12224449,\n",
       "        6.14028056,  6.15831663,  6.17635271,  6.19438878,  6.21242485,\n",
       "        6.23046092,  6.24849699,  6.26653307,  6.28456914,  6.30260521,\n",
       "        6.32064128,  6.33867735,  6.35671343,  6.3747495 ,  6.39278557,\n",
       "        6.41082164,  6.42885772,  6.44689379,  6.46492986,  6.48296593,\n",
       "        6.501002  ,  6.51903808,  6.53707415,  6.55511022,  6.57314629,\n",
       "        6.59118236,  6.60921844,  6.62725451,  6.64529058,  6.66332665,\n",
       "        6.68136273,  6.6993988 ,  6.71743487,  6.73547094,  6.75350701,\n",
       "        6.77154309,  6.78957916,  6.80761523,  6.8256513 ,  6.84368737,\n",
       "        6.86172345,  6.87975952,  6.89779559,  6.91583166,  6.93386774,\n",
       "        6.95190381,  6.96993988,  6.98797595,  7.00601202,  7.0240481 ,\n",
       "        7.04208417,  7.06012024,  7.07815631,  7.09619238,  7.11422846,\n",
       "        7.13226453,  7.1503006 ,  7.16833667,  7.18637275,  7.20440882,\n",
       "        7.22244489,  7.24048096,  7.25851703,  7.27655311,  7.29458918,\n",
       "        7.31262525,  7.33066132,  7.34869739,  7.36673347,  7.38476954,\n",
       "        7.40280561,  7.42084168,  7.43887776,  7.45691383,  7.4749499 ,\n",
       "        7.49298597,  7.51102204,  7.52905812,  7.54709419,  7.56513026,\n",
       "        7.58316633,  7.6012024 ,  7.61923848,  7.63727455,  7.65531062,\n",
       "        7.67334669,  7.69138277,  7.70941884,  7.72745491,  7.74549098,\n",
       "        7.76352705,  7.78156313,  7.7995992 ,  7.81763527,  7.83567134,\n",
       "        7.85370741,  7.87174349,  7.88977956,  7.90781563,  7.9258517 ,\n",
       "        7.94388778,  7.96192385,  7.97995992,  7.99799599,  8.01603206,\n",
       "        8.03406814,  8.05210421,  8.07014028,  8.08817635,  8.10621242,\n",
       "        8.1242485 ,  8.14228457,  8.16032064,  8.17835671,  8.19639279,\n",
       "        8.21442886,  8.23246493,  8.250501  ,  8.26853707,  8.28657315,\n",
       "        8.30460922,  8.32264529,  8.34068136,  8.35871743,  8.37675351,\n",
       "        8.39478958,  8.41282565,  8.43086172,  8.4488978 ,  8.46693387,\n",
       "        8.48496994,  8.50300601,  8.52104208,  8.53907816,  8.55711423,\n",
       "        8.5751503 ,  8.59318637,  8.61122244,  8.62925852,  8.64729459,\n",
       "        8.66533066,  8.68336673,  8.70140281,  8.71943888,  8.73747495,\n",
       "        8.75551102,  8.77354709,  8.79158317,  8.80961924,  8.82765531,\n",
       "        8.84569138,  8.86372745,  8.88176353,  8.8997996 ,  8.91783567,\n",
       "        8.93587174,  8.95390782,  8.97194389,  8.98997996,  9.00801603,\n",
       "        9.0260521 ,  9.04408818,  9.06212425,  9.08016032,  9.09819639,\n",
       "        9.11623246,  9.13426854,  9.15230461,  9.17034068,  9.18837675,\n",
       "        9.20641283,  9.2244489 ,  9.24248497,  9.26052104,  9.27855711,\n",
       "        9.29659319,  9.31462926,  9.33266533,  9.3507014 ,  9.36873747,\n",
       "        9.38677355,  9.40480962,  9.42284569,  9.44088176,  9.45891784,\n",
       "        9.47695391,  9.49498998,  9.51302605,  9.53106212,  9.5490982 ,\n",
       "        9.56713427,  9.58517034,  9.60320641,  9.62124248,  9.63927856,\n",
       "        9.65731463,  9.6753507 ,  9.69338677,  9.71142285,  9.72945892,\n",
       "        9.74749499,  9.76553106,  9.78356713,  9.80160321,  9.81963928,\n",
       "        9.83767535,  9.85571142,  9.87374749,  9.89178357,  9.90981964,\n",
       "        9.92785571,  9.94589178,  9.96392786,  9.98196393, 10.        ])"
      ]
     },
     "execution_count": 20,
     "metadata": {},
     "output_type": "execute_result"
    }
   ],
   "source": [
    "a = np.linspace(1, 10, 500)\n",
    "a"
   ]
  },
  {
   "cell_type": "code",
   "execution_count": 21,
   "metadata": {},
   "outputs": [
    {
     "data": {
      "text/plain": [
       "array([1.00000000e+01, 1.14280206e+01, 1.30599655e+01, 1.49249555e+01,\n",
       "       1.70562698e+01, 1.94919403e+01, 2.22754295e+01, 2.54564067e+01,\n",
       "       2.90916341e+01, 3.32459793e+01, 3.79935737e+01, 4.34191342e+01,\n",
       "       4.96194760e+01, 5.67052394e+01, 6.48028644e+01, 7.40568469e+01,\n",
       "       8.46323172e+01, 9.67179864e+01, 1.10529514e+02, 1.26313356e+02,\n",
       "       1.44351164e+02, 1.64964807e+02, 1.88522122e+02, 2.15443469e+02,\n",
       "       2.46209240e+02, 2.81368427e+02, 3.21548418e+02, 3.67466194e+02,\n",
       "       4.19941123e+02, 4.79909581e+02, 5.48441658e+02, 6.26760256e+02,\n",
       "       7.16262912e+02, 8.18546731e+02, 9.35436890e+02, 1.06901920e+03,\n",
       "       1.22167735e+03, 1.39613539e+03, 1.59550640e+03, 1.82334800e+03,\n",
       "       2.08372585e+03, 2.38128619e+03, 2.72133877e+03, 3.10995155e+03,\n",
       "       3.55405904e+03, 4.06158599e+03, 4.64158883e+03, 5.30441728e+03,\n",
       "       6.06189899e+03, 6.92755066e+03, 7.91681916e+03, 9.04735724e+03,\n",
       "       1.03393385e+04, 1.18158173e+04, 1.35031404e+04, 1.54314166e+04,\n",
       "       1.76350547e+04, 2.01533769e+04, 2.30313206e+04, 2.63202406e+04,\n",
       "       3.00788252e+04, 3.43741434e+04, 3.92828419e+04, 4.48925126e+04,\n",
       "       5.13032558e+04, 5.86294665e+04, 6.70018750e+04, 7.65698808e+04,\n",
       "       8.75042175e+04, 1.00000000e+05])"
      ]
     },
     "execution_count": 21,
     "metadata": {},
     "output_type": "execute_result"
    }
   ],
   "source": [
    "c = np.logspace(1, 5, 70)\n",
    "c\n"
   ]
  },
  {
   "cell_type": "code",
   "execution_count": 22,
   "metadata": {},
   "outputs": [],
   "source": [
    "v = np.array([[1,2,3,4,5],[6,7,8,9,10]])"
   ]
  },
  {
   "cell_type": "code",
   "execution_count": 23,
   "metadata": {},
   "outputs": [
    {
     "data": {
      "text/plain": [
       "array([[ 1,  2],\n",
       "       [ 3,  4],\n",
       "       [ 5,  6],\n",
       "       [ 7,  8],\n",
       "       [ 9, 10]])"
      ]
     },
     "execution_count": 23,
     "metadata": {},
     "output_type": "execute_result"
    }
   ],
   "source": [
    "v.reshape(5,2)"
   ]
  },
  {
   "cell_type": "markdown",
   "metadata": {},
   "source": [
    "Indexing and slicing"
   ]
  },
  {
   "cell_type": "code",
   "execution_count": 24,
   "metadata": {},
   "outputs": [
    {
     "data": {
      "text/plain": [
       "array([[1, 2, 3],\n",
       "       [4, 5, 6],\n",
       "       [7, 8, 9]])"
      ]
     },
     "execution_count": 24,
     "metadata": {},
     "output_type": "execute_result"
    }
   ],
   "source": [
    "#example\n",
    "a = np.array([[1,2,3],[4,5,6],[7,8,9]])\n",
    "a"
   ]
  },
  {
   "cell_type": "code",
   "execution_count": 25,
   "metadata": {},
   "outputs": [
    {
     "data": {
      "text/plain": [
       "8"
      ]
     },
     "execution_count": 25,
     "metadata": {},
     "output_type": "execute_result"
    }
   ],
   "source": [
    "a[2,1]"
   ]
  },
  {
   "cell_type": "code",
   "execution_count": 26,
   "metadata": {},
   "outputs": [
    {
     "data": {
      "text/plain": [
       "array([[1, 2],\n",
       "       [4, 5]])"
      ]
     },
     "execution_count": 26,
     "metadata": {},
     "output_type": "execute_result"
    }
   ],
   "source": [
    "a[:2,:2]"
   ]
  },
  {
   "cell_type": "code",
   "execution_count": 27,
   "metadata": {},
   "outputs": [
    {
     "name": "stdout",
     "output_type": "stream",
     "text": [
      "[7 8 9]\n"
     ]
    }
   ],
   "source": [
    "print(a[2,:])"
   ]
  },
  {
   "cell_type": "code",
   "execution_count": 28,
   "metadata": {},
   "outputs": [
    {
     "name": "stdout",
     "output_type": "stream",
     "text": [
      "[1 4 5]\n"
     ]
    }
   ],
   "source": [
    "#integer indexing\n",
    "a=np.array([[1,2],[3,4],[5,6]])\n",
    "\n",
    "print(a[[0,1,2],[0,1,0]])"
   ]
  },
  {
   "cell_type": "code",
   "execution_count": 29,
   "metadata": {},
   "outputs": [
    {
     "data": {
      "text/plain": [
       "array([[4, 7, 1],\n",
       "       [2, 5, 7],\n",
       "       [7, 1, 1]])"
      ]
     },
     "execution_count": 29,
     "metadata": {},
     "output_type": "execute_result"
    }
   ],
   "source": [
    "#boolean indexing\n",
    "a = np.array([[4,7,1],[2,5,7],[7,1,1]])\n",
    "a"
   ]
  },
  {
   "cell_type": "code",
   "execution_count": 30,
   "metadata": {},
   "outputs": [
    {
     "name": "stdout",
     "output_type": "stream",
     "text": [
      "[4 7 5 7 7]\n"
     ]
    }
   ],
   "source": [
    "\n",
    "mask = a > 3\n",
    "print(a[mask])"
   ]
  },
  {
   "cell_type": "code",
   "execution_count": 31,
   "metadata": {},
   "outputs": [
    {
     "data": {
      "text/plain": [
       "array([3.+0.j, 4.+0.j, 5.+0.j, 3.+5.j, 0.+0.j])"
      ]
     },
     "execution_count": 31,
     "metadata": {},
     "output_type": "execute_result"
    }
   ],
   "source": [
    "array = np.array([3,4,5,3+5j,0])\n",
    "array"
   ]
  },
  {
   "cell_type": "code",
   "execution_count": 32,
   "metadata": {},
   "outputs": [],
   "source": [
    "real = np.isreal(array)\n",
    "real_array = array[real]"
   ]
  },
  {
   "cell_type": "code",
   "execution_count": 33,
   "metadata": {},
   "outputs": [
    {
     "name": "stdout",
     "output_type": "stream",
     "text": [
      "[3.+0.j 4.+0.j 5.+0.j 0.+0.j]\n"
     ]
    }
   ],
   "source": [
    "print(real_array)"
   ]
  },
  {
   "cell_type": "code",
   "execution_count": 34,
   "metadata": {},
   "outputs": [
    {
     "data": {
      "text/plain": [
       "array([3.+5.j])"
      ]
     },
     "execution_count": 34,
     "metadata": {},
     "output_type": "execute_result"
    }
   ],
   "source": [
    "imag = np.iscomplex(array)\n",
    "\n",
    "# boolean filter\n",
    "imag_array = array[imag]\n",
    "imag_array"
   ]
  },
  {
   "cell_type": "markdown",
   "metadata": {},
   "source": [
    "Vectorization\n",
    "Vectorization is the ability of NumPy by which we can perform operations on entire arrays rather than on a single element. When looping over an array or any data structure in Python, there’s a lot of overhead involved. Vectorized operations in NumPy delegate the looping internally to highly optimized C and Fortran functions, making for a cleaner and faster Python code."
   ]
  },
  {
   "cell_type": "code",
   "execution_count": 35,
   "metadata": {},
   "outputs": [],
   "source": [
    "#initializing\n",
    "a = np.array([[1,2,3],[4,5,6],[7,8,9]])\n",
    "b=np.array([[10,11,12],[13,14,15],[16,17,18]])"
   ]
  },
  {
   "cell_type": "code",
   "execution_count": 36,
   "metadata": {},
   "outputs": [
    {
     "name": "stdout",
     "output_type": "stream",
     "text": [
      "[[11 13 15]\n",
      " [17 19 21]\n",
      " [23 25 27]]\n",
      "=================\n",
      "[[11 13 15]\n",
      " [17 19 21]\n",
      " [23 25 27]]\n"
     ]
    }
   ],
   "source": [
    "print(a+b)\n",
    "print('=================')\n",
    "print(np.add(a,b))"
   ]
  },
  {
   "cell_type": "code",
   "execution_count": 37,
   "metadata": {},
   "outputs": [
    {
     "name": "stdout",
     "output_type": "stream",
     "text": [
      "[[-9 -9 -9]\n",
      " [-9 -9 -9]\n",
      " [-9 -9 -9]]\n",
      "=================\n",
      "[[-9 -9 -9]\n",
      " [-9 -9 -9]\n",
      " [-9 -9 -9]]\n"
     ]
    }
   ],
   "source": [
    "print(a-b)\n",
    "print('=================')\n",
    "print(np.subtract(a,b))"
   ]
  },
  {
   "cell_type": "code",
   "execution_count": 38,
   "metadata": {},
   "outputs": [
    {
     "name": "stdout",
     "output_type": "stream",
     "text": [
      "[[ 10  22  36]\n",
      " [ 52  70  90]\n",
      " [112 136 162]]\n",
      "=================\n",
      "[[ 10  22  36]\n",
      " [ 52  70  90]\n",
      " [112 136 162]]\n"
     ]
    }
   ],
   "source": [
    "print(a*b)\n",
    "print('=================')\n",
    "print(np.multiply(a,b))"
   ]
  },
  {
   "cell_type": "code",
   "execution_count": 39,
   "metadata": {},
   "outputs": [
    {
     "name": "stdout",
     "output_type": "stream",
     "text": [
      "[[0.1        0.18181818 0.25      ]\n",
      " [0.30769231 0.35714286 0.4       ]\n",
      " [0.4375     0.47058824 0.5       ]]\n",
      "=================\n",
      "[[0.1        0.18181818 0.25      ]\n",
      " [0.30769231 0.35714286 0.4       ]\n",
      " [0.4375     0.47058824 0.5       ]]\n"
     ]
    }
   ],
   "source": [
    "print(a/b)\n",
    "print('=================')\n",
    "print(np.divide(a,b))"
   ]
  },
  {
   "cell_type": "code",
   "execution_count": 40,
   "metadata": {},
   "outputs": [
    {
     "data": {
      "text/plain": [
       "array([[1.        , 1.41421356, 1.73205081],\n",
       "       [2.        , 2.23606798, 2.44948974],\n",
       "       [2.64575131, 2.82842712, 3.        ]])"
      ]
     },
     "execution_count": 40,
     "metadata": {},
     "output_type": "execute_result"
    }
   ],
   "source": [
    "np.sqrt(a)"
   ]
  },
  {
   "cell_type": "code",
   "execution_count": 41,
   "metadata": {},
   "outputs": [
    {
     "data": {
      "text/plain": [
       "array([[0.        , 0.69314718, 1.09861229],\n",
       "       [1.38629436, 1.60943791, 1.79175947],\n",
       "       [1.94591015, 2.07944154, 2.19722458]])"
      ]
     },
     "execution_count": 41,
     "metadata": {},
     "output_type": "execute_result"
    }
   ],
   "source": [
    "np.log(a)"
   ]
  },
  {
   "cell_type": "code",
   "execution_count": null,
   "metadata": {},
   "outputs": [],
   "source": []
  },
  {
   "cell_type": "code",
   "execution_count": 42,
   "metadata": {},
   "outputs": [
    {
     "name": "stdout",
     "output_type": "stream",
     "text": [
      "True\n"
     ]
    }
   ],
   "source": [
    "#array comparision\n",
    "c = np.array([1,2,3,4])\n",
    "d = np.array([1,2,3,4])\n",
    "print(np.array_equal(c,d))"
   ]
  },
  {
   "cell_type": "code",
   "execution_count": 43,
   "metadata": {},
   "outputs": [
    {
     "name": "stdout",
     "output_type": "stream",
     "text": [
      "[[ 1  4  9]\n",
      " [16 25 36]]\n",
      "=================\n",
      "[17 29 45]\n",
      "==========\n",
      "[14 77]\n",
      "==========\n",
      "91\n"
     ]
    }
   ],
   "source": [
    "a = np.array([[1,4,9],[16,25,36]])\n",
    "print(a)\n",
    "print('=================')\n",
    "# computes sum over columns\n",
    "print(a.sum(axis=0))\n",
    "print('==========')\n",
    "\n",
    "# computes sum over rows\n",
    "print(a.sum(axis=1))\n",
    "print('==========')\n",
    "\n",
    "# computes total sum\n",
    "print(a.sum())"
   ]
  },
  {
   "cell_type": "code",
   "execution_count": null,
   "metadata": {},
   "outputs": [],
   "source": []
  },
  {
   "cell_type": "code",
   "execution_count": null,
   "metadata": {},
   "outputs": [],
   "source": []
  },
  {
   "cell_type": "code",
   "execution_count": null,
   "metadata": {},
   "outputs": [],
   "source": []
  },
  {
   "cell_type": "code",
   "execution_count": null,
   "metadata": {},
   "outputs": [],
   "source": []
  },
  {
   "cell_type": "code",
   "execution_count": null,
   "metadata": {},
   "outputs": [],
   "source": [
    "\n"
   ]
  },
  {
   "cell_type": "code",
   "execution_count": null,
   "metadata": {},
   "outputs": [],
   "source": []
  },
  {
   "cell_type": "markdown",
   "metadata": {},
   "source": [
    "Broadcasting\n",
    "Have you wondered how this operation np.array([1, 2, 3]) + 4 was successfully carried out? It was all due to the broadcasting power of NumPy arrays"
   ]
  },
  {
   "cell_type": "code",
   "execution_count": null,
   "metadata": {},
   "outputs": [],
   "source": []
  },
  {
   "cell_type": "code",
   "execution_count": null,
   "metadata": {},
   "outputs": [],
   "source": []
  },
  {
   "cell_type": "code",
   "execution_count": null,
   "metadata": {},
   "outputs": [],
   "source": []
  },
  {
   "cell_type": "code",
   "execution_count": null,
   "metadata": {},
   "outputs": [],
   "source": [
    "\n",
    "\n",
    "\n",
    "\n"
   ]
  },
  {
   "cell_type": "code",
   "execution_count": null,
   "metadata": {},
   "outputs": [],
   "source": []
  },
  {
   "cell_type": "code",
   "execution_count": 44,
   "metadata": {},
   "outputs": [],
   "source": [
    "centigrade_temps = np.array([0, 10, 25, 32, 80, 99.99])"
   ]
  },
  {
   "cell_type": "code",
   "execution_count": null,
   "metadata": {},
   "outputs": [],
   "source": []
  },
  {
   "cell_type": "code",
   "execution_count": null,
   "metadata": {},
   "outputs": [],
   "source": []
  },
  {
   "cell_type": "code",
   "execution_count": null,
   "metadata": {},
   "outputs": [],
   "source": [
    "\n",
    "\n"
   ]
  },
  {
   "cell_type": "code",
   "execution_count": null,
   "metadata": {},
   "outputs": [],
   "source": []
  },
  {
   "cell_type": "code",
   "execution_count": null,
   "metadata": {},
   "outputs": [],
   "source": []
  },
  {
   "cell_type": "markdown",
   "metadata": {},
   "source": [
    "Project"
   ]
  },
  {
   "cell_type": "code",
   "execution_count": null,
   "metadata": {},
   "outputs": [],
   "source": []
  },
  {
   "cell_type": "code",
   "execution_count": null,
   "metadata": {},
   "outputs": [],
   "source": []
  },
  {
   "cell_type": "code",
   "execution_count": null,
   "metadata": {},
   "outputs": [],
   "source": []
  },
  {
   "cell_type": "code",
   "execution_count": null,
   "metadata": {},
   "outputs": [],
   "source": []
  },
  {
   "cell_type": "code",
   "execution_count": null,
   "metadata": {},
   "outputs": [],
   "source": []
  },
  {
   "cell_type": "code",
   "execution_count": null,
   "metadata": {},
   "outputs": [],
   "source": []
  },
  {
   "cell_type": "code",
   "execution_count": null,
   "metadata": {},
   "outputs": [],
   "source": []
  },
  {
   "cell_type": "code",
   "execution_count": null,
   "metadata": {},
   "outputs": [],
   "source": []
  }
 ],
 "metadata": {
  "kernelspec": {
   "display_name": "Python 3",
   "language": "python",
   "name": "python3"
  },
  "language_info": {
   "codemirror_mode": {
    "name": "ipython",
    "version": 3
   },
   "file_extension": ".py",
   "mimetype": "text/x-python",
   "name": "python",
   "nbconvert_exporter": "python",
   "pygments_lexer": "ipython3",
   "version": "3.7.3"
  }
 },
 "nbformat": 4,
 "nbformat_minor": 2
}
